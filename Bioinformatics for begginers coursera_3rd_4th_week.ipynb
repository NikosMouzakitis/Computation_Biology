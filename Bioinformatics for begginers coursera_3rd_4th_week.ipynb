{
 "cells": [
  {
   "cell_type": "code",
   "execution_count": 22,
   "id": "4669cec3-3c80-43f3-9e21-80e0df90e4f6",
   "metadata": {},
   "outputs": [
    {
     "name": "stdout",
     "output_type": "stream",
     "text": [
      "{'A': [1, 2, 1, 0, 0, 2], 'C': [2, 1, 4, 2, 0, 0], 'G': [1, 1, 0, 2, 1, 1], 'T': [1, 1, 0, 1, 4, 2]}\n"
     ]
    },
    {
     "data": {
      "text/plain": [
       "{'A': [1, 2, 1, 0, 0, 2],\n",
       " 'C': [2, 1, 4, 2, 0, 0],\n",
       " 'G': [1, 1, 0, 2, 1, 1],\n",
       " 'T': [1, 1, 0, 1, 4, 2]}"
      ]
     },
     "execution_count": 22,
     "metadata": {},
     "output_type": "execute_result"
    }
   ],
   "source": [
    "\n",
    "Motifs = [\"AACGTA\",\"CCCGTT\",\"CACCTT\",\"GGATTA\",\"TTCCGG\"]\n",
    "\n",
    "#count matrix\n",
    "def Count(Motifs):\n",
    "    \n",
    "    count = {}\n",
    "    k = len(Motifs[0]) # len of the motifs\n",
    "    \n",
    "    # initialization of the count matrix.\n",
    "    for symbol in \"ACGT\":\n",
    "        count[symbol] = []\n",
    "        for j in range(k):\n",
    "            count[symbol].append(0)\n",
    "        \n",
    "        \n",
    "    t = len(Motifs)\n",
    "    for i in range(t):\n",
    "        for j in range(k):\n",
    "            symbol = Motifs[i][j]\n",
    "            count[symbol][j] += 1\n",
    "    return count\n",
    "\n",
    "def Profile(Motifs):\n",
    "    count = Count(Motifs)\n",
    "    t = len(Motifs)\n",
    "    k = len(Motifs[0])\n",
    "    for l in \"ACGT\":\n",
    "        for j in range(k):\n",
    "            count[l][j] = count[l][j]/t\n",
    "    \n",
    "    return count\n",
    "    \n",
    "e = Count(Motifs)\n",
    "print(e)\n",
    "p = Profile(Motifs)\n",
    "e"
   ]
  },
  {
   "cell_type": "code",
   "execution_count": 19,
   "id": "a2bb2111-a223-4e3d-870b-70713d69ef23",
   "metadata": {},
   "outputs": [
    {
     "data": {
      "text/plain": [
       "{'A': [0.2, 0.4, 0.2, 0.0, 0.0, 0.4],\n",
       " 'C': [0.4, 0.2, 0.8, 0.4, 0.0, 0.0],\n",
       " 'G': [0.2, 0.2, 0.0, 0.4, 0.2, 0.2],\n",
       " 'T': [0.2, 0.2, 0.0, 0.2, 0.8, 0.4]}"
      ]
     },
     "execution_count": 19,
     "metadata": {},
     "output_type": "execute_result"
    }
   ],
   "source": [
    "#pssm-weigth matrix\n",
    "p"
   ]
  },
  {
   "cell_type": "code",
   "execution_count": 56,
   "id": "c42d6f11-cc6c-4980-9532-aab99b70e7b1",
   "metadata": {},
   "outputs": [
    {
     "data": {
      "text/plain": [
       "'CACCTA'"
      ]
     },
     "execution_count": 56,
     "metadata": {},
     "output_type": "execute_result"
    }
   ],
   "source": [
    "def Consensus(Motifs):\n",
    "    # insert your code here\n",
    "    t = len(Motifs)\n",
    "    k = len(Motifs[0])\n",
    "    tmp = Count(Motifs)\n",
    "    ret = \"\"\n",
    "    \n",
    "    for i in range(k) :\n",
    "        m = 0\n",
    "        char = \"X\"\n",
    "        for j in \"ACGT\":\n",
    "            if( m < tmp[j][i]):\n",
    "                m = tmp[j][i]\n",
    "                char = j\n",
    "        \n",
    "        ret += char\n",
    "        \n",
    "    return ret\n",
    "\n",
    "a = Consensus(Motifs)\n",
    "a\n",
    "    "
   ]
  },
  {
   "cell_type": "code",
   "execution_count": 28,
   "id": "927ccb72-375a-45e2-bce3-819c13cdd07e",
   "metadata": {},
   "outputs": [],
   "source": [
    "def Score(Motifs):\n",
    "    orig = Consensus(Motifs)\n",
    "    \n",
    "    cnt = 0\n",
    "    for i in range(len(Motifs)):\n",
    "        for j in range(len(Motifs[0])):\n",
    "            if(Motifs[i][j]!= orig[j]):\n",
    "                cnt+=1\n",
    "                       \n",
    "    return cnt\n",
    "    "
   ]
  },
  {
   "cell_type": "code",
   "execution_count": 29,
   "id": "71abda05-4f7c-4115-b96a-5d64378c0ae1",
   "metadata": {},
   "outputs": [
    {
     "data": {
      "text/plain": [
       "14"
      ]
     },
     "execution_count": 29,
     "metadata": {},
     "output_type": "execute_result"
    }
   ],
   "source": [
    "b = Score(Motifs)\n",
    "b"
   ]
  },
  {
   "cell_type": "code",
   "execution_count": 30,
   "id": "4abb13d2-8f7b-45f6-8c7f-f6f96575e700",
   "metadata": {},
   "outputs": [],
   "source": [
    "def Pr(Text, Profile):\n",
    "    pro = 1 # probablility\n",
    "    for i in range(len(Text)):\n",
    "        pro *= Profile[Text[i]][i]\n",
    "        \n",
    "    return pro\n"
   ]
  },
  {
   "cell_type": "code",
   "execution_count": 32,
   "id": "76fe2263-cfda-4691-ac89-2f228e34b94e",
   "metadata": {},
   "outputs": [
    {
     "name": "stdout",
     "output_type": "stream",
     "text": [
      "AACGTA\n",
      "CCCGTT\n",
      "CACCTT\n",
      "GGATTA\n",
      "TTCCGG\n"
     ]
    }
   ],
   "source": [
    "for i in Motifs:\n",
    "    print(i)"
   ]
  },
  {
   "cell_type": "code",
   "execution_count": 35,
   "id": "1a791dae-eb65-4a0d-abd1-afa05474082e",
   "metadata": {},
   "outputs": [
    {
     "data": {
      "text/plain": [
       "0.008192000000000003"
      ]
     },
     "execution_count": 35,
     "metadata": {},
     "output_type": "execute_result"
    }
   ],
   "source": [
    "p = Profile(Motifs)\n",
    "#should give result 0 as G does\n",
    "# not appear on the third place.\n",
    "Pr(\"AACGTA\",p)"
   ]
  },
  {
   "cell_type": "code",
   "execution_count": 46,
   "id": "e6a6af89-8052-416f-8f2c-d9466f1619c5",
   "metadata": {},
   "outputs": [
    {
     "data": {
      "text/plain": [
       "6"
      ]
     },
     "execution_count": 46,
     "metadata": {},
     "output_type": "execute_result"
    }
   ],
   "source": [
    "len(p['A'])"
   ]
  },
  {
   "cell_type": "code",
   "execution_count": 55,
   "id": "0cfe3bcd-1194-49bd-acf7-cdc07b92eb0c",
   "metadata": {},
   "outputs": [],
   "source": [
    "def ProfileMostProbableKmer(text, k, profile):\n",
    "    n = len(text)\n",
    "    pr = {}\n",
    "    #return value, as list.\n",
    "    most_prob_kmer = []\n",
    "    \n",
    "    for i in range(n-k+1):\n",
    "        k_mer = text[i:i+k]\n",
    "        probability = Pr(k_mer, profile)\n",
    "        pr[k_mer] = probability\n",
    "    #find max value in the dictionary\n",
    "    m = max(pr.values())\n",
    "    for key, value in pr.items():\n",
    "        if (pr[key] == m):\n",
    "            most_prob_kmer.append(key)\n",
    "    return most_prob_kmer[0]"
   ]
  },
  {
   "cell_type": "code",
   "execution_count": 57,
   "id": "d89ada5c-e9ba-40aa-b43b-ee14713e70cb",
   "metadata": {},
   "outputs": [],
   "source": [
    "# Input:  A list of kmers Dna, and integers k and t (where t is the number of kmers in Dna)\n",
    "# Output: GreedyMotifSearch(Dna, k, t)\n",
    "def GreedyMotifSearch(Dna, k, t):\n",
    "    # type your GreedyMotifSearch code here.\n",
    "    BestMotifs = []\n",
    "    for i in range(0, t):\n",
    "        BestMotifs.append(Dna[i][0:k])\n",
    "    \n",
    "    n = len(Dna[0])\n",
    "    \n",
    "    for i in range(n-k+1):\n",
    "        Motifs = []\n",
    "        Motifs.append(Dna[0][i:i+k])\n",
    "        for j in range(1, t):\n",
    "            P = Profile(Motifs[0:j])\n",
    "            Motifs.append(ProfileMostProbableKmer(Dna[j], k, P))\n",
    "        \n",
    "        if (Score(Motifs) < Score(BestMotifs)):\n",
    "            BestMotifs = Motifs\n",
    "    return BestMotifs"
   ]
  },
  {
   "cell_type": "code",
   "execution_count": 78,
   "id": "72963c39-b7f9-4b1b-98ab-0658de069d1d",
   "metadata": {},
   "outputs": [
    {
     "data": {
      "text/plain": [
       "['GCGCCCCGCCCGGACAGCCATGCGCTAACCCTGGCTTCGATGGCGCCGGCTCAGTTAGGGCCGGAAGTCCCCAATGTGGCAGACCTTTCGCCCCTGGCGGACGAATGACCCCAGTGGCCGGGACTTCAGGCCCTATCGGAGGGCTCCGGCGCGGTGGTCGGATTTGTCTGTGGAGGTTACACCCCAATCGCAAGGATGCATTATGACCAGCGAGCTGAGCCTGGTCGCCACTGGAAAGGGGAGCAACATC',\n",
       " 'CCGATCGGCATCACTATCGGTCCTGCGGCCGCCCATAGCGCTATATCCGGCTGGTGAAATCAATTGACAACCTTCGACTTTGAGGTGGCCTACGGCGAGGACAAGCCAGGCAAGCCAGCTGCCTCAACGCGCGCCAGTACGGGTCCATCGACCCGCGGCCCACGGGTCAAACGACCCTAGTGTTCGCTACGACGTGGTCGTACCTTCGGCAGCAGATCAGCAATAGCACCCCGACTCGAGGAGGATCCCG',\n",
       " 'ACCGTCGATGTGCCCGGTCGCGCCGCGTCCACCTCGGTCATCGACCCCACGATGAGGACGCCATCGGCCGCGACCAAGCCCCGTGAAACTCTGACGGCGTGCTGGCCGGGCTGCGGCACCTGATCACCTTAGGGCACTTGGGCCACCACAACGGGCCGCCGGTCTCGACAGTGGCCACCACCACACAGGTGACTTCCGGCGGGACGTAAGTCCCTAACGCGTCGTTCCGCACGCGGTTAGCTTTGCTGCC',\n",
       " 'GGGTCAGGTATATTTATCGCACACTTGGGCACATGACACACAAGCGCCAGAATCCCGGACCGAACCGAGCACCGTGGGTGGGCAGCCTCCATACAGCGATGACCTGATCGATCATCGGCCAGGGCGCCGGGCTTCCAACCGTGGCCGTCTCAGTACCCAGCCTCATTGACCCTTCGACGCATCCACTGCGCGTAAGTCGGCTCAACCCTTTCAAACCGCTGGATTACCGACCGCAGAAAGGGGGCAGGAC',\n",
       " 'GTAGGTCAAACCGGGTGTACATACCCGCTCAATCGCCCAGCACTTCGGGCAGATCACCGGGTTTCCCCGGTATCACCAATACTGCCACCAAACACAGCAGGCGGGAAGGGGCGAAAGTCCCTTATCCGACAATAAAACTTCGCTTGTTCGACGCCCGGTTCACCCGATATGCACGGCGCCCAGCCATTCGTGACCGACGTCCCCAGCCCCAAGGCCGAACGACCCTAGGAGCCACGAGCAATTCACAGCG',\n",
       " 'CCGCTGGCGACGCTGTTCGCCGGCAGCGTGCGTGACGACTTCGAGCTGCCCGACTACACCTGGTGACCACCGCCGACGGGCACCTCTCCGCCAGGTAGGCACGGTTTGTCGCCGGCAATGTGACCTTTGGGCGCGGTCTTGAGGACCTTCGGCCCCACCCACGAGGCCGCCGCCGGCCGATCGTATGACGTGCAATGTACGCCATAGGGTGCGTGTTACGGCGATTACCTGAAGGCGGCGGTGGTCCGGA',\n",
       " 'GGCCAACTGCACCGCGCTCTTGATGACATCGGTGGTCACCATGGTGTCCGGCATGATCAACCTCCGCTGTTCGATATCACCCCGATCTTTCTGAACGGCGGTTGGCAGACAACAGGGTCAATGGTCCCCAAGTGGATCACCGACGGGCGCGGACAAATGGCCCGCGCTTCGGGGACTTCTGTCCCTAGCCCTGGCCACGATGGGCTGGTCGGATCAAAGGCATCCGTTTCCATCGATTAGGAGGCATCAA',\n",
       " 'GTACATGTCCAGAGCGAGCCTCAGCTTCTGCGCAGCGACGGAAACTGCCACACTCAAAGCCTACTGGGCGCACGTGTGGCAACGAGTCGATCCACACGAAATGCCGCCGTTGGGCCGCGGACTAGCCGAATTTTCCGGGTGGTGACACAGCCCACATTTGGCATGGGACTTTCGGCCCTGTCCGCGTCCGTGTCGGCCAGACAAGCTTTGGGCATTGGCCACAATCGGGCCACAATCGAAAGCCGAGCAG',\n",
       " 'GGCAGCTGTCGGCAACTGTAAGCCATTTCTGGGACTTTGCTGTGAAAAGCTGGGCGATGGTTGTGGACCTGGACGAGCCACCCGTGCGATAGGTGAGATTCATTCTCGCCCTGACGGGTTGCGTCTGTCATCGGTCGATAAGGACTAACGGCCCTCAGGTGGGGACCAACGCCCCTGGGAGATAGCGGTCCCCGCCAGTAACGTACCGCTGAACCGACGGGATGTATCCGCCCCAGCGAAGGAGACGGCG',\n",
       " 'TCAGCACCATGACCGCCTGGCCACCAATCGCCCGTAACAAGCGGGACGTCCGCGACGACGCGTGCGCTAGCGCCGTGGCGGTGACAACGACCAGATATGGTCCGAGCACGCGGGCGAACCTCGTGTTCTGGCCTCGGCCAGTTGTGTAGAGCTCATCGCTGTCATCGAGCGATATCCGACCACTGATCCAAGTCGGGGGCTCTGGGGACCGAAGTCCCCGGGCTCGGAGCTATCGGACCTCACGATCACC']"
      ]
     },
     "execution_count": 78,
     "metadata": {},
     "output_type": "execute_result"
    }
   ],
   "source": [
    "file = open(\"DosR.txt\",\"r\")\n",
    "lines = file.readlines()\n",
    "d_motifs = []\n",
    "f_motifs = []\n",
    "for i in lines:\n",
    "    d_motifs.append(i)\n",
    "    \n",
    "#strip_newline in the end of each line    \n",
    "for i in d_motifs:\n",
    "    i = i[:len(i)-1]\n",
    "    f_motifs.append(i)\n",
    "\n",
    "f_motifs.pop(10)\n",
    "# motifs after pop() empty last line. \n",
    "f_motifs"
   ]
  },
  {
   "cell_type": "code",
   "execution_count": 80,
   "id": "ff3ed35e-e7f0-4acc-b98d-f6f604760b92",
   "metadata": {},
   "outputs": [
    {
     "name": "stdout",
     "output_type": "stream",
     "text": [
      "9.916290005356972\n"
     ]
    }
   ],
   "source": [
    "import math\n",
    "a=[0.2,0.2,0.9,0.1,0.1,0.1,0.3]\n",
    "c=[0.1,0.6,0.4,0.1,0.2,0.4,0.6]\n",
    "g=[1,1,0.9,0.9,0.1]\n",
    "t=[0.7,0.2,0.1,0.1,0.5,0.8,0.7,0.3,0.4]\n",
    "data_list=[a,c,g,t]\n",
    "\n",
    "H=0.0\n",
    "for j in data_list:\n",
    "    for i in j:\n",
    "        H=H+i*(math.log(i,2))\n",
    "print (-H) "
   ]
  },
  {
   "cell_type": "code",
   "execution_count": 94,
   "id": "c795f5a9-2a76-4406-92cc-653fa8b7476b",
   "metadata": {},
   "outputs": [],
   "source": [
    "Motifs = [\"AACGTA\",\"CCCGTT\",\"CACCTT\",\"GGATTA\",\"TTCCGG\"]\n",
    "\n",
    "#count matrix\n",
    "def CountWithPseudocounts(Motifs):\n",
    "    \n",
    "    count = {}\n",
    "    k = len(Motifs[0]) # len of the motifs\n",
    "    \n",
    "    # initialization of the count matrix.\n",
    "    for symbol in \"ACGT\":\n",
    "        count[symbol] = []\n",
    "        for j in range(k):\n",
    "            count[symbol].append(0)\n",
    "        \n",
    "        \n",
    "    t = len(Motifs)\n",
    "    for i in range(t):\n",
    "        for j in range(k):\n",
    "            symbol = Motifs[i][j]\n",
    "            count[symbol][j] += 1\n",
    "            \n",
    "    for symbol in \"ACGT\":\n",
    "        for j in range(k):\n",
    "            count[symbol][j] += 1\n",
    "            \n",
    "    return count\n",
    "\n",
    "\n"
   ]
  },
  {
   "cell_type": "code",
   "execution_count": 95,
   "id": "c86cb41c-df08-40f0-9f09-355a749c28e1",
   "metadata": {},
   "outputs": [
    {
     "name": "stdout",
     "output_type": "stream",
     "text": [
      "Count with pseudomotifs function\n",
      "{'A': [2, 3, 2, 1, 1, 3], 'C': [3, 2, 5, 3, 1, 1], 'G': [2, 2, 1, 3, 2, 2], 'T': [2, 2, 1, 2, 5, 3]}\n",
      "Original count function\n",
      "{'A': [1, 2, 1, 0, 0, 2], 'C': [2, 1, 4, 2, 0, 0], 'G': [1, 1, 0, 2, 1, 1], 'T': [1, 1, 0, 1, 4, 2]}\n"
     ]
    }
   ],
   "source": [
    "print(\"Count with pseudomotifs function\")\n",
    "b = CountWithPseudocounts(Motifs)\n",
    "print(b)\n",
    "print(\"Original count function\")\n",
    "print(Count(Motifs))"
   ]
  },
  {
   "cell_type": "code",
   "execution_count": 103,
   "id": "6d46b733-c5eb-45d1-bcc2-6752139b210e",
   "metadata": {},
   "outputs": [],
   "source": [
    "def ProfileWithPseudocounts(Motifs):\n",
    "    count = CountWithPseudocounts(Motifs)\n",
    "    t = len(Motifs)\n",
    "    k = len(Motifs[0])\n",
    "    \n",
    "    div_me  = count['A'][0] + count['G'][0] + count['T'][0] + count['C'][0] \n",
    "    for l in \"ACGT\":\n",
    "        for j in range(k):\n",
    "            count[l][j] = count[l][j]/div_me\n",
    "    \n",
    "    return count"
   ]
  },
  {
   "cell_type": "code",
   "execution_count": 104,
   "id": "163f8ce8-5b33-42c4-ac4e-f0dfe50c85da",
   "metadata": {},
   "outputs": [
    {
     "data": {
      "text/plain": [
       "{'A': [0.2, 0.4, 0.2, 0.0, 0.0, 0.4],\n",
       " 'C': [0.4, 0.2, 0.8, 0.4, 0.0, 0.0],\n",
       " 'G': [0.2, 0.2, 0.0, 0.4, 0.2, 0.2],\n",
       " 'T': [0.2, 0.2, 0.0, 0.2, 0.8, 0.4]}"
      ]
     },
     "execution_count": 104,
     "metadata": {},
     "output_type": "execute_result"
    }
   ],
   "source": [
    "a = Profile(Motifs)\n",
    "a"
   ]
  },
  {
   "cell_type": "code",
   "execution_count": 105,
   "id": "5e37dd0d-b341-4b22-a117-0cef03597485",
   "metadata": {},
   "outputs": [
    {
     "data": {
      "text/plain": [
       "{'A': [0.2222222222222222,\n",
       "  0.3333333333333333,\n",
       "  0.2222222222222222,\n",
       "  0.1111111111111111,\n",
       "  0.1111111111111111,\n",
       "  0.3333333333333333],\n",
       " 'C': [0.3333333333333333,\n",
       "  0.2222222222222222,\n",
       "  0.5555555555555556,\n",
       "  0.3333333333333333,\n",
       "  0.1111111111111111,\n",
       "  0.1111111111111111],\n",
       " 'G': [0.2222222222222222,\n",
       "  0.2222222222222222,\n",
       "  0.1111111111111111,\n",
       "  0.3333333333333333,\n",
       "  0.2222222222222222,\n",
       "  0.2222222222222222],\n",
       " 'T': [0.2222222222222222,\n",
       "  0.2222222222222222,\n",
       "  0.1111111111111111,\n",
       "  0.2222222222222222,\n",
       "  0.5555555555555556,\n",
       "  0.3333333333333333]}"
      ]
     },
     "execution_count": 105,
     "metadata": {},
     "output_type": "execute_result"
    }
   ],
   "source": [
    "b = ProfileWithPseudocounts(Motifs)\n",
    "b"
   ]
  },
  {
   "cell_type": "code",
   "execution_count": 106,
   "id": "98be62af-3c62-45df-bc9b-3d93c1a7c49d",
   "metadata": {},
   "outputs": [],
   "source": [
    "def GreedyMotifSearchWithPseudocounts(Dna, k, t):\n",
    "    BestMotifs = [] # output variable\n",
    "    # your code here\n",
    "    for i in range(0, t):\n",
    "        BestMotifs.append(Dna[i][0:k])\n",
    "    \n",
    "    n = len(Dna[0])\n",
    "    \n",
    "    for i in range(n-k+1):\n",
    "        Motifs = []\n",
    "        Motifs.append(Dna[0][i:i+k])\n",
    "        for j in range(1, t):\n",
    "            P = ProfileWithPseudocounts(Motifs[0:j])\n",
    "            Motifs.append(ProfileMostProbableKmer(Dna[j], k, P))\n",
    "        \n",
    "        if (Score(Motifs) < Score(BestMotifs)):\n",
    "            BestMotifs = Motifs\n",
    "    return BestMotifs"
   ]
  },
  {
   "cell_type": "code",
   "execution_count": 107,
   "id": "6574d5cc-fe8a-4510-8137-d4dde779df79",
   "metadata": {},
   "outputs": [],
   "source": [
    "def ConsensusWithPseudocounts(Motifs):\n",
    "    # insert your code here\n",
    "    t = len(Motifs)\n",
    "    k = len(Motifs[0])\n",
    "    tmp = CountWithPseudocounts(Motifs)\n",
    "    ret = \"\"\n",
    "    \n",
    "    for i in range(k) :\n",
    "        m = 0\n",
    "        char = \"X\"\n",
    "        for j in \"ACGT\":\n",
    "            if( m < tmp[j][i]):\n",
    "                m = tmp[j][i]\n",
    "                char = j\n",
    "        \n",
    "        ret += char\n",
    "        \n",
    "    return ret"
   ]
  },
  {
   "cell_type": "code",
   "execution_count": 114,
   "id": "86f87267-18a4-4577-9c86-dc87b903be5d",
   "metadata": {},
   "outputs": [],
   "source": [
    "# Input:  A profile matrix Profile and a list of strings Dna\n",
    "# Output: Motifs(Profile, Dna)\n",
    "def Motifs(Profile, Dna):\n",
    "    # insert your code here\n",
    "    motifs = [] #motifs empty list.\n",
    "    \n",
    "    t = len(Dna)\n",
    "    k = len(Profile['A'])\n",
    "    \n",
    "    for i in range(t):\n",
    "        motif = ProfileMostProbablePattern(Dna[i], k, Profile)\n",
    "        motifs.append(motif)\n",
    "    return motifs\n",
    "    "
   ]
  },
  {
   "cell_type": "code",
   "execution_count": 109,
   "id": "9a87137c-30c5-4a80-b30e-5fbe8644051e",
   "metadata": {},
   "outputs": [],
   "source": [
    "# import Python's 'random' module here\n",
    "import random\n",
    "\n",
    "# Input:  A list of strings Dna, and integers k and t\n",
    "# Output: RandomMotifs(Dna, k, t)\n",
    "# HINT:   You might not actually need to use t since t = len(Dna), but you may find it convenient\n",
    "def RandomMotifs(Dna, k, t):\n",
    "    t = len(Dna)\n",
    "    l = len(Dna[0])\n",
    "    RandomMotif =[]\n",
    "    for i in range(t):\n",
    "        r = random.randint(1,l-k) # 1 is not added as it is inclusive of last element also\n",
    "        RandomMotif.append(Dna[i][r:r+k])\n",
    "    return RandomMotif    \n",
    "    "
   ]
  },
  {
   "cell_type": "code",
   "execution_count": 110,
   "id": "b0206d9f-c7c1-49fd-9667-5823076ed8fd",
   "metadata": {},
   "outputs": [],
   "source": [
    "\n",
    "\n",
    "def RandomizedMotifSearch(Dna, k, t):\n",
    "    # insert your code here\n",
    "    M = RandomMotifs(Dna, k, t)\n",
    "    BestMotifs = M\n",
    "    \n",
    "    while (True):\n",
    "        Profile = ProfileWithPseudocounts(M)\n",
    "        M = Motifs(Profile, Dna)\n",
    "        \n",
    "        if (Score(M) < Score(BestMotifs) ):\n",
    "            BestMotifs = M\n",
    "        else:\n",
    "            return BestMotifs\n",
    "        \n",
    "def ScoreWithPseudocounts(Motifs):\n",
    "    orig = ConsensusWithPseudocounts(Motifs)\n",
    "    \n",
    "    cnt = 0\n",
    "    for i in range(len(Motifs)):\n",
    "        for j in range(len(Motifs[0])):\n",
    "            if(Motifs[i][j]!= orig[j]):\n",
    "                cnt+=1\n",
    "                       \n",
    "    return cnt\n",
    "        \n",
    "        "
   ]
  },
  {
   "cell_type": "code",
   "execution_count": 113,
   "id": "b125d25a-0a9e-40ec-9a82-d7300d9072b6",
   "metadata": {},
   "outputs": [
    {
     "data": {
      "text/plain": [
       "6"
      ]
     },
     "execution_count": 113,
     "metadata": {},
     "output_type": "execute_result"
    }
   ],
   "source": [
    "len(a['A'])"
   ]
  },
  {
   "cell_type": "markdown",
   "id": "828fa61a-36e7-4d63-85e5-95abbe33e8ab",
   "metadata": {},
   "source": [
    "# Functions to perform Randomized Motif Search"
   ]
  },
  {
   "cell_type": "code",
   "execution_count": 115,
   "id": "d7e32dca-50dc-4374-9852-f5b6274db1af",
   "metadata": {},
   "outputs": [],
   "source": [
    "# import the random package here\n",
    "import random\n",
    "# Input:  Positive integers k and t, followed by a list of strings Dna\n",
    "# Output: RandomizedMotifSearch(Dna, k, t)\n",
    "def RandomizedMotifSearch(Dna, k, t):\n",
    "    # insert your code here\n",
    "    M = RandomMotifs(Dna, k, t)\n",
    "    BestMotifs = M\n",
    "    \n",
    "    while (True):\n",
    "        Profile = ProfileWithPseudocounts(M)\n",
    "        M = Motifs(Profile, Dna)\n",
    "        \n",
    "        if (Score(M) < Score(BestMotifs) ):\n",
    "            BestMotifs = M\n",
    "        else:\n",
    "            return BestMotifs\n",
    "        \n",
    "# Insert necessary subroutines here, including RandomMotifs(), ProfileWithPseudocounts(), Motifs(), Score(),\n",
    "# and any subroutines that these functions need.\n",
    "def RandomMotifs(Dna, k, t):\n",
    "    t = len(Dna)\n",
    "    l = len(Dna[0])\n",
    "    RandomMotif =[]\n",
    "    for i in range(t):\n",
    "        r = random.randint(1,l-k) # 1 is not added as it is inclusive of last element also\n",
    "        RandomMotif.append(Dna[i][r:r+k])\n",
    "    return RandomMotif  \n",
    "\n",
    "def Motifs(Profile, Dna):\n",
    "    # insert your code here\n",
    "    motifs = [] #motifs empty list.\n",
    "    \n",
    "    t = len(Dna)\n",
    "    k = len(Profile['A'])\n",
    "    \n",
    "    for i in range(t):\n",
    "        motif = ProfileMostProbablePattern(Dna[i], k, Profile)\n",
    "        motifs.append(motif)\n",
    "    return motifs\n",
    "    \n",
    "def ConsensusWithPseudocounts(Motifs):\n",
    "    # insert your code here\n",
    "    t = len(Motifs)\n",
    "    k = len(Motifs[0])\n",
    "    tmp = CountWithPseudocounts(Motifs)\n",
    "    ret = \"\"\n",
    "    \n",
    "    for i in range(k) :\n",
    "        m = 0\n",
    "        char = \"X\"\n",
    "        for j in \"ACGT\":\n",
    "            if( m < tmp[j][i]):\n",
    "                m = tmp[j][i]\n",
    "                char = j\n",
    "        \n",
    "        ret += char\n",
    "        \n",
    "    return ret\n",
    "\n",
    "def ProfileWithPseudocounts(Motifs):\n",
    "    count = CountWithPseudocounts(Motifs)\n",
    "    t = len(Motifs)\n",
    "    k = len(Motifs[0])\n",
    "    \n",
    "    div_me  = count['A'][0] + count['G'][0] + count['T'][0] + count['C'][0] \n",
    "    for l in \"ACGT\":\n",
    "        for j in range(k):\n",
    "            count[l][j] = count[l][j]/div_me\n",
    "    \n",
    "    return count\n",
    "\n",
    "def Pr(Text, Profile):\n",
    "    pro = 1 # probablility\n",
    "    for i in range(len(Text)):\n",
    "        pro *= Profile[Text[i]][i]\n",
    "        \n",
    "    return pro\n",
    "\n",
    "def CountWithPseudocounts(Motifs):\n",
    "    \n",
    "    count = {}\n",
    "    k = len(Motifs[0]) # len of the motifs\n",
    "    \n",
    "    # initialization of the count matrix.\n",
    "    for symbol in \"ACGT\":\n",
    "        count[symbol] = []\n",
    "        for j in range(k):\n",
    "            count[symbol].append(0)\n",
    "        \n",
    "        \n",
    "    t = len(Motifs)\n",
    "    for i in range(t):\n",
    "        for j in range(k):\n",
    "            symbol = Motifs[i][j]\n",
    "            count[symbol][j] += 1\n",
    "            \n",
    "    for symbol in \"ACGT\":\n",
    "        for j in range(k):\n",
    "            count[symbol][j] += 1\n",
    "            \n",
    "    return count\n",
    "\n",
    "def Score(Motifs):\n",
    "    orig = ConsensusWithPseudocounts(Motifs)\n",
    "    \n",
    "    cnt = 0\n",
    "    for i in range(len(Motifs)):\n",
    "        for j in range(len(Motifs[0])):\n",
    "            if(Motifs[i][j]!= orig[j]):\n",
    "                cnt+=1\n",
    "                       \n",
    "    return cnt\n",
    "\n",
    "\n",
    "def ProfileMostProbablePattern(text, k, profile):\n",
    "    n = len(text)\n",
    "    pr = {}\n",
    "    #return value, as list.\n",
    "    most_prob_kmer = []\n",
    "    \n",
    "    for i in range(n-k+1):\n",
    "        k_mer = text[i:i+k]\n",
    "        probability = Pr(k_mer, profile)\n",
    "        pr[k_mer] = probability\n",
    "    #find max value in the dictionary\n",
    "    m = max(pr.values())\n",
    "    for key, value in pr.items():\n",
    "        if (pr[key] == m):\n",
    "            most_prob_kmer.append(key)\n",
    "    return most_prob_kmer[0]"
   ]
  },
  {
   "cell_type": "code",
   "execution_count": 2,
   "id": "299b595c-6e93-4d44-9e31-5c8e4f1f8e3b",
   "metadata": {},
   "outputs": [],
   "source": [
    "def Normalize(Probabilities):\n",
    "    # your code here\n",
    "    new = Probabilities\n",
    "    \n",
    "    sm=0\n",
    "    for k in Probabilities:\n",
    "        sm+=Probabilities[k]\n",
    "        \n",
    "    for k in Probabilities:\n",
    "        new[k] /= sm\n",
    "        \n",
    "    return new\n",
    "        "
   ]
  },
  {
   "cell_type": "code",
   "execution_count": 3,
   "id": "2af04a50-332c-4c2e-97c9-28eae1e24626",
   "metadata": {},
   "outputs": [],
   "source": [
    "def WeightedDie(Probabilities):\n",
    "    kmer = '' # output variable\n",
    "    count = 0\n",
    "    p = random.uniform(0,1)\n",
    "    for keys,values in Probabilities.items():\n",
    "        count = count+values\n",
    "        if (p < count):\n",
    "            kmer += keys\n",
    "            return keys\n",
    "    # your code here\n",
    "    return kmer"
   ]
  },
  {
   "cell_type": "code",
   "execution_count": 4,
   "id": "1178153e-d308-492a-8e52-823ad1c91b40",
   "metadata": {},
   "outputs": [],
   "source": [
    "def ProfileGeneratedString(Text, profile, k):\n",
    "    # your code here\n",
    "    n = len(Text)\n",
    "    probabilities = {}\n",
    "    for i in range(0,n-k+1):\n",
    "        probabilities[Text[i:i+k]] = Pr(Text[i:i+k], profile)\n",
    "\n",
    "    probabilities = Normalize(probabilities)\n",
    "    return WeightedDie(probabilities)"
   ]
  },
  {
   "cell_type": "code",
   "execution_count": 17,
   "id": "7e264ed2-8cae-4992-91b4-237e3a0d84cc",
   "metadata": {},
   "outputs": [
    {
     "data": {
      "text/plain": [
       "['AAACGGCC', 'AAGGTGCC', 'ACAGGCGT', 'GCACGTCG', 'ACGTGCAA']"
      ]
     },
     "execution_count": 17,
     "metadata": {},
     "output_type": "execute_result"
    }
   ],
   "source": [
    "### test\n",
    "### test\n",
    "\n",
    "#Implementing GibbsSampler\n",
    "import random\n",
    "# Input:  Integers k, t, and N, followed by a collection of strings Dna\n",
    "# Output: GibbsSampler(Dna, k, t, N)\n",
    "def GibbsSampler(Dna, k, t, N):\n",
    "    BestMotifs = [] # output variable\n",
    "    t = len(Dna)\n",
    "    Motifs = RandomMotifs(Dna, k, t)\n",
    "    BestMotifs = Motifs\n",
    "    \n",
    "    for j in range(1, N): #from index 0 to N-1\n",
    "        i = random.randint(0, t - 1) #from index 0 to t-1\n",
    "        testMotifs = []\n",
    "        for m in range(0, t): #Loop through all the different motifs\n",
    "            if m != i:\n",
    "                testMotifs.append(Motifs[m]) #appends all generated motifs except the motifs @ i\n",
    "        \n",
    "        testProf = ProfileWithPseudocounts(testMotifs) #create profile of the generated motifs except motif @ i\n",
    "         \n",
    "        motif_i = ProfileGeneratedString(Dna[i], testProf, k) \n",
    "        Motifs[i] = motif_i #change the motif of i with the generated profile\n",
    "         \n",
    "        if Score(Motifs) < Score(BestMotifs):\n",
    "                BestMotifs = Motifs\n",
    "    return BestMotifs\n",
    "def RandomMotifs(Dna, k, t):\n",
    "    t = len(Dna)\n",
    "    l = len(Dna[0])\n",
    "    RandomMotif =[]\n",
    "    for i in range(t):\n",
    "        r = random.randint(1,l-k) # 1 is not added as it is inclusive of last element also\n",
    "        RandomMotif.append(Dna[i][r:r+k])\n",
    "    return RandomMotif  \n",
    " \n",
    "def ProfileWithPseudocounts(Motifs):\n",
    "    count = CountWithPseudocounts(Motifs)\n",
    "    \n",
    "    t = len(Motifs)\n",
    "    k = len(Motifs[0])\n",
    "    \n",
    "    div_me  = count['A'][0] + count['G'][0] + count['T'][0] + count['C'][0] \n",
    "    for l in \"ACGT\":\n",
    "        for j in range(k):\n",
    "            count[l][j] = count[l][j]/div_me\n",
    "    \n",
    "    return count\n",
    "\n",
    "def Pr(Text, Profile):\n",
    "    pro = 1 # probablility\n",
    "    for i in range(len(Text)):\n",
    "        pro *= Profile[Text[i]][i]\n",
    "        \n",
    "    return pro\n",
    "\n",
    "def CountWithPseudocounts(Motifs):\n",
    "    \n",
    "    count = {}\n",
    "    k = len(Motifs[0]) # len of the motifs\n",
    "    \n",
    "    # initialization of the count matrix.\n",
    "    for symbol in \"ACGT\":\n",
    "        count[symbol] = []\n",
    "        for j in range(k):\n",
    "            count[symbol].append(0)\n",
    "        \n",
    "        \n",
    "    t = len(Motifs)\n",
    "    for i in range(t):\n",
    "        for j in range(k):\n",
    "            symbol = Motifs[i][j]\n",
    "            count[symbol][j] += 1\n",
    "            \n",
    "    for symbol in \"ACGT\":\n",
    "        for j in range(k):\n",
    "            count[symbol][j] += 1\n",
    "            \n",
    "    return count\n",
    "# Input:  A dictionary Probabilities whose keys are k-mers and whose values are the probabilities of these kmers\n",
    "# Output: A randomly chosen k-mer with respect to the values in Probabilities\n",
    "def WeightedDie(Probabilities):\n",
    "    kmer = '' # output variable\n",
    "    count = 0\n",
    "    p = random.uniform(0,1)\n",
    "    for keys,values in Probabilities.items():\n",
    "        count = count+values\n",
    "        if (p < count):\n",
    "            kmer += keys\n",
    "            return keys\n",
    "    # your code here\n",
    "    return kmer\n",
    "\n",
    "# Input:  A string Text, a profile matrix Profile, and an integer k\n",
    "# Output: ProfileGeneratedString(Text, profile, k)\n",
    "def ProfileGeneratedString(Text, profile, k):\n",
    "    # your code here\n",
    "    n = len(Text)\n",
    "    \n",
    "    probabilities = {}\n",
    "    \n",
    "    for i in range(0,n-k+1):\n",
    "        probabilities[Text[i:i+k]] = Pr(Text[i:i+k], profile)\n",
    "    probabilities = Normalize(probabilities)\n",
    "    return WeightedDie(probabilities)\n",
    "# Input:  String Text and profile matrix Profile\n",
    "# Output: Pr(Text, Profile)\n",
    "def Pr(Text, Profile):\n",
    "    # insert your code here\n",
    "    p = 1\n",
    "    for i in range(0,len(Text)):\n",
    "        p *= Profile[Text[i]][i]\n",
    "    return p\n",
    "\n",
    "def Normalize(Probabilities):\n",
    "    # your code here\n",
    "    new = Probabilities\n",
    "    \n",
    "    sm=0\n",
    "    for k in Probabilities:\n",
    "        sm+=Probabilities[k]\n",
    "        \n",
    "    for k in Probabilities:\n",
    "        new[k] /= sm\n",
    "        \n",
    "    return new\n",
    "\n",
    "def Score(Motifs):\n",
    "    orig = ConsensusWithPseudocounts(Motifs)\n",
    "    \n",
    "    cnt = 0\n",
    "    for i in range(len(Motifs)):\n",
    "        for j in range(len(Motifs[0])):\n",
    "            if(Motifs[i][j]!= orig[j]):\n",
    "                cnt+=1\n",
    "                       \n",
    "    return cnt        \n",
    "    \n",
    "    \n",
    "def ConsensusWithPseudocounts(Motifs):\n",
    "    # insert your code here\n",
    "    t = len(Motifs)\n",
    "    k = len(Motifs[0])\n",
    "    tmp = CountWithPseudocounts(Motifs)\n",
    "    ret = \"\"\n",
    "    \n",
    "    for i in range(k) :\n",
    "        m = 0\n",
    "        char = \"X\"\n",
    "        for j in \"ACGT\":\n",
    "            if( m < tmp[j][i]):\n",
    "                m = tmp[j][i]\n",
    "                char = j\n",
    "        \n",
    "        ret += char\n",
    "        \n",
    "    return ret    \n",
    "    \n",
    "    \n",
    "k = 8\n",
    "t = 5\n",
    "N = 100\n",
    "Dna = [\"CGCCCCTCTCGGGGGTGTTCAGTAAACGGCCA\",\"GGGCGAGGTATGTGTAAGTGCCAAGGTGCCAG\",\"TAGTACCGAGACCGAAAGAAGTATACAGGCGT\",\"TAGATCAAGTTTCAGGTGCACGTCGGTGAACC\",\"AATCCACCAGCTCCACGTGCAATGTTGGCCTA\"]\n",
    "#print(GibbsSampler(Dna, k, t, N))\n",
    "GibbsSampler(Dna, k, t, N)"
   ]
  },
  {
   "cell_type": "code",
   "execution_count": null,
   "id": "55192797-9b6f-4ed0-8e9d-bb3a917a046b",
   "metadata": {},
   "outputs": [],
   "source": []
  }
 ],
 "metadata": {
  "kernelspec": {
   "display_name": "Python 3 (ipykernel)",
   "language": "python",
   "name": "python3"
  },
  "language_info": {
   "codemirror_mode": {
    "name": "ipython",
    "version": 3
   },
   "file_extension": ".py",
   "mimetype": "text/x-python",
   "name": "python",
   "nbconvert_exporter": "python",
   "pygments_lexer": "ipython3",
   "version": "3.9.10"
  }
 },
 "nbformat": 4,
 "nbformat_minor": 5
}
