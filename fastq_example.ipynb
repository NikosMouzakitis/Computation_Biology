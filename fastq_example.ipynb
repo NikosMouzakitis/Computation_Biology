{
 "cells": [
  {
   "cell_type": "code",
   "execution_count": 3,
   "id": "995e3f75-13e9-4023-aa7c-a1d591d2fc6e",
   "metadata": {},
   "outputs": [],
   "source": [
    "from collections import defaultdict\n",
    "import gzip\n",
    "import matplotlib.pyplot as plt\n",
    "from Bio import SeqIO"
   ]
  },
  {
   "cell_type": "code",
   "execution_count": 21,
   "id": "94065a19-8409-4e55-9c16-641dd7fc5f1d",
   "metadata": {},
   "outputs": [],
   "source": [
    "recs = SeqIO.parse(gzip.open(\"SRR003265.filt.fastq.gz\",'rt', encoding='utf-8'),'fastq')\n",
    " "
   ]
  },
  {
   "cell_type": "code",
   "execution_count": 22,
   "id": "44a54381-b314-4592-9360-cebbd3117534",
   "metadata": {},
   "outputs": [],
   "source": [
    "rec=next(recs)"
   ]
  },
  {
   "cell_type": "code",
   "execution_count": 23,
   "id": "3ea53cde-ac33-4fac-8c78-b9224c1f8b69",
   "metadata": {},
   "outputs": [
    {
     "name": "stdout",
     "output_type": "stream",
     "text": [
      "SRR003265.31\n"
     ]
    }
   ],
   "source": [
    "print(rec.name)\n"
   ]
  },
  {
   "cell_type": "code",
   "execution_count": 24,
   "id": "31e072a5-115d-45b3-a35d-9a4b01db3a7a",
   "metadata": {},
   "outputs": [
    {
     "name": "stdout",
     "output_type": "stream",
     "text": [
      "SRR003265.31\n"
     ]
    }
   ],
   "source": [
    "print(rec.id)"
   ]
  },
  {
   "cell_type": "code",
   "execution_count": 25,
   "id": "95156fdb-c961-4a9b-81a2-21c482ab4a13",
   "metadata": {},
   "outputs": [
    {
     "name": "stdout",
     "output_type": "stream",
     "text": [
      "SRR003265.31 3042NAAXX:3:1:1252:1819 length=51\n"
     ]
    }
   ],
   "source": [
    "print(rec.description)"
   ]
  },
  {
   "cell_type": "code",
   "execution_count": 26,
   "id": "b688f4cb-f0f0-4683-8919-693d3047b8cf",
   "metadata": {},
   "outputs": [
    {
     "name": "stdout",
     "output_type": "stream",
     "text": [
      "GGGAAAAGAAAAACAAACAAACAAAAACAAAACACAGAAACAAAAAAACCA\n"
     ]
    }
   ],
   "source": [
    "print(rec.seq)"
   ]
  },
  {
   "cell_type": "code",
   "execution_count": 27,
   "id": "df62bddb-5364-4c4f-8c53-8d340aef7462",
   "metadata": {},
   "outputs": [
    {
     "name": "stdout",
     "output_type": "stream",
     "text": [
      "{'phred_quality': [40, 40, 40, 40, 40, 40, 40, 40, 40, 40, 40, 40, 40, 40, 40, 40, 40, 40, 40, 30, 23, 40, 32, 35, 29, 40, 16, 40, 40, 32, 35, 31, 40, 40, 39, 22, 40, 24, 20, 28, 31, 12, 31, 10, 22, 28, 13, 26, 20, 23, 23]}\n"
     ]
    }
   ],
   "source": [
    "print(rec.letter_annotations)"
   ]
  },
  {
   "cell_type": "code",
   "execution_count": 33,
   "id": "4ba3d436-2c69-483b-84a8-638abcf50dd4",
   "metadata": {},
   "outputs": [],
   "source": [
    "recs = SeqIO.parse(gzip.open(\"SRR003265.filt.fastq.gz\",'rt', encoding='utf-8'),'fastq')\n",
    "count = defaultdict(int)\n"
   ]
  },
  {
   "cell_type": "code",
   "execution_count": 34,
   "id": "08985fa1-a4ac-4c45-9f51-123cd7b522be",
   "metadata": {},
   "outputs": [
    {
     "name": "stdout",
     "output_type": "stream",
     "text": [
      "G: 20.68 5359334 \n",
      "A: 28.60 7411965 \n",
      "C: 21.00 5444053 \n",
      "T: 29.58 7666885 \n",
      "N: 0.14 37289 \n"
     ]
    }
   ],
   "source": [
    "for rec in recs:\n",
    "    for letter in rec.seq:\n",
    "        count[letter] +=1\n",
    "        \n",
    "total = sum(count.values())\n",
    "for letter, cnt in count.items():\n",
    "    print(\"%s: %.2f %d \"%(letter, 100. * cnt/total, cnt))"
   ]
  },
  {
   "cell_type": "code",
   "execution_count": 35,
   "id": "c472d160-c8a9-4ee3-8ad4-ca2ec21dbb73",
   "metadata": {},
   "outputs": [],
   "source": [
    "# we see we get an unknown base, denoted N here."
   ]
  },
  {
   "cell_type": "code",
   "execution_count": null,
   "id": "15b09024-deed-481a-b8ff-b67c9553279b",
   "metadata": {},
   "outputs": [],
   "source": []
  }
 ],
 "metadata": {
  "kernelspec": {
   "display_name": "Python 3 (ipykernel)",
   "language": "python",
   "name": "python3"
  },
  "language_info": {
   "codemirror_mode": {
    "name": "ipython",
    "version": 3
   },
   "file_extension": ".py",
   "mimetype": "text/x-python",
   "name": "python",
   "nbconvert_exporter": "python",
   "pygments_lexer": "ipython3",
   "version": "3.9.10"
  }
 },
 "nbformat": 4,
 "nbformat_minor": 5
}
