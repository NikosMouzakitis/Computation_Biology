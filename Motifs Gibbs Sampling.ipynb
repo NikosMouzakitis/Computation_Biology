{
 "cells": [
  {
   "cell_type": "markdown",
   "id": "58867903-4c5e-41a2-ac59-c1cae85ce764",
   "metadata": {},
   "source": [
    "# Motifs\n"
   ]
  },
  {
   "cell_type": "code",
   "execution_count": 3,
   "id": "8c0f5c21-ee6f-462b-bc8a-2375e5655372",
   "metadata": {},
   "outputs": [],
   "source": [
    "from Bio import motifs\n",
    "from Bio.Seq import Seq\n",
    "\n",
    "instances = [Seq(\"CAGTT\"),Seq(\"CATTT\"),Seq(\"ATTTA\"),Seq(\"CAGTA\"),Seq(\"CAGTT\"),Seq(\"CAGTA\")]\n",
    "\n",
    "\n"
   ]
  },
  {
   "cell_type": "markdown",
   "id": "a01575d7-6343-41b3-ae84-ea3842fe4bb8",
   "metadata": {},
   "source": [
    "# Create motifs"
   ]
  },
  {
   "cell_type": "code",
   "execution_count": 4,
   "id": "7a186df9-5303-401e-b7da-cd1badba6f0a",
   "metadata": {},
   "outputs": [],
   "source": [
    "motif = motifs.create(instances)"
   ]
  },
  {
   "cell_type": "code",
   "execution_count": 5,
   "id": "ffdb9983-25ed-401e-bad9-907e0f5a7148",
   "metadata": {},
   "outputs": [
    {
     "name": "stdout",
     "output_type": "stream",
     "text": [
      "CAKTW\n"
     ]
    }
   ],
   "source": [
    "print(motif.degenerate_consensus)"
   ]
  },
  {
   "cell_type": "code",
   "execution_count": 7,
   "id": "460eecec-446c-4570-a0f1-2ecebe60961f",
   "metadata": {},
   "outputs": [
    {
     "name": "stdout",
     "output_type": "stream",
     "text": [
      "        0      1      2      3      4\n",
      "A:   1.00   5.00   0.00   0.00   3.00\n",
      "C:   5.00   0.00   0.00   0.00   0.00\n",
      "G:   0.00   0.00   4.00   0.00   0.00\n",
      "T:   0.00   1.00   2.00   6.00   3.00\n",
      "\n"
     ]
    }
   ],
   "source": [
    "print(motif.counts)"
   ]
  },
  {
   "cell_type": "markdown",
   "id": "b1ca2f8d-fd23-4a39-a5ae-2a29ada7a2a4",
   "metadata": {},
   "source": [
    "# Use sites file from JASPAR"
   ]
  },
  {
   "cell_type": "code",
   "execution_count": 8,
   "id": "8de30daf-60c5-4b85-a2c8-1e33fdbfcdbc",
   "metadata": {},
   "outputs": [],
   "source": [
    "## address of file: http://jaspar.genereg.net/cgi-bin/jaspar_db.pl?ID=MA0447.1&rm=present&collection=CORE"
   ]
  },
  {
   "cell_type": "code",
   "execution_count": 10,
   "id": "dba3b54c-53c2-4629-a2b1-9a22795054f0",
   "metadata": {},
   "outputs": [],
   "source": [
    "motif = motifs.read(open('MA0447.1.sites'), \"sites\")"
   ]
  },
  {
   "cell_type": "code",
   "execution_count": 11,
   "id": "567258dc-d819-466a-a1ca-5961ab068d95",
   "metadata": {},
   "outputs": [
    {
     "name": "stdout",
     "output_type": "stream",
     "text": [
      "        0      1      2      3      4      5      6      7      8      9\n",
      "A:   9.00   0.00   1.00  29.00   0.00   5.00   0.00  30.00  33.00   0.00\n",
      "C:   4.00   1.00   0.00   0.00  29.00   0.00   3.00   2.00   1.00   8.00\n",
      "G:  18.00   1.00   2.00   4.00   0.00  30.00   1.00   1.00   0.00   4.00\n",
      "T:   4.00  33.00  32.00   2.00   6.00   0.00  31.00   2.00   1.00  23.00\n",
      "\n"
     ]
    }
   ],
   "source": [
    "print(motif.counts)"
   ]
  },
  {
   "cell_type": "markdown",
   "id": "412121ee-438f-480d-8c10-2395a1e43dda",
   "metadata": {},
   "source": [
    "# Gibbs sampling "
   ]
  },
  {
   "cell_type": "code",
   "execution_count": 15,
   "id": "eaa7c7c6-7bc8-4b74-b1a2-d7f3cbf453cf",
   "metadata": {},
   "outputs": [],
   "source": [
    "from Bio.Seq import Seq\n",
    "import random\n",
    "seqs=[Seq('GTCGATCGATCGTACGTACGTACGTACGATGCTAGCTACGTACC'),\n",
    "Seq('GGTTCGAGTCGAGCAAGAGCTAGCTAGCGACGTACTAC'),\n",
    "Seq('GCTGATCATGCTAGCGCGTAGCTACGATCGTACGTACGATGAGCTAGCTACGTCTACGTACGTGCACA')]\n"
   ]
  },
  {
   "cell_type": "code",
   "execution_count": 21,
   "id": "1abb27b4-b1ca-483e-b19c-9eba82f20769",
   "metadata": {},
   "outputs": [
    {
     "data": {
      "text/plain": [
       "4"
      ]
     },
     "execution_count": 21,
     "metadata": {},
     "output_type": "execute_result"
    }
   ],
   "source": [
    "K = 7\n",
    "# we go 7-mers\n",
    "random.seed(1)\n",
    "j = random.randint(0,20)\n",
    "j"
   ]
  },
  {
   "cell_type": "code",
   "execution_count": 22,
   "id": "e61b7cdf-3c42-419d-b59b-51773108bd0f",
   "metadata": {},
   "outputs": [],
   "source": [
    "instances = []\n",
    "for seq in seqs:\n",
    "    instances.append(seq[j:j+K])"
   ]
  },
  {
   "cell_type": "markdown",
   "id": "df76aea7-c8db-49fd-9aec-75421325a2e6",
   "metadata": {},
   "source": [
    "* from each sequence we create a 7mer "
   ]
  },
  {
   "cell_type": "code",
   "execution_count": 23,
   "id": "78334b41-9c4b-4607-818c-b5db12dc61db",
   "metadata": {},
   "outputs": [
    {
     "name": "stdout",
     "output_type": "stream",
     "text": [
      "[Seq('ATCGATC'), Seq('CGAGTCG'), Seq('ATCATGC')]\n"
     ]
    }
   ],
   "source": [
    "print(instances)"
   ]
  },
  {
   "cell_type": "markdown",
   "id": "8419c458-1c22-4e9c-b8d0-685e3fc289fa",
   "metadata": {},
   "source": [
    "* we will create a motif from the 3 patterns now."
   ]
  },
  {
   "cell_type": "code",
   "execution_count": 24,
   "id": "34cd042c-4b31-466d-bb5c-a4162a6dfab4",
   "metadata": {},
   "outputs": [],
   "source": [
    "motif = motifs.create(instances)"
   ]
  },
  {
   "cell_type": "code",
   "execution_count": 25,
   "id": "9a23d4ae-1ca6-44ad-bbe0-ce4eda1284d5",
   "metadata": {},
   "outputs": [
    {
     "name": "stdout",
     "output_type": "stream",
     "text": [
      "MKMRWBS\n"
     ]
    }
   ],
   "source": [
    "print(motif.degenerate_consensus)"
   ]
  },
  {
   "cell_type": "code",
   "execution_count": 27,
   "id": "c4c414fb-fa63-4313-81f0-6a32a8dafd7f",
   "metadata": {},
   "outputs": [
    {
     "name": "stdout",
     "output_type": "stream",
     "text": [
      "        0      1      2      3      4      5      6\n",
      "A:   2.00   0.00   1.00   1.00   1.00   0.00   0.00\n",
      "C:   1.00   0.00   2.00   0.00   0.00   1.00   2.00\n",
      "G:   0.00   1.00   0.00   2.00   0.00   1.00   1.00\n",
      "T:   0.00   2.00   0.00   0.00   2.00   1.00   0.00\n",
      "\n"
     ]
    }
   ],
   "source": [
    "print(motif.counts)"
   ]
  },
  {
   "cell_type": "markdown",
   "id": "b923fb82-8490-40ee-9fe9-17a458f68b05",
   "metadata": {},
   "source": [
    "* Also we can create the PSSM weight matrix"
   ]
  },
  {
   "cell_type": "code",
   "execution_count": 31,
   "id": "8fa9a490-60fa-4ad2-bb0f-8b9da7b69c0d",
   "metadata": {},
   "outputs": [
    {
     "name": "stdout",
     "output_type": "stream",
     "text": [
      "        0      1      2      3      4      5      6\n",
      "A:   1.42   -inf   0.42   0.42   0.42   -inf   -inf\n",
      "C:   0.42   -inf   1.42   -inf   -inf   0.42   1.42\n",
      "G:   -inf   0.42   -inf   1.42   -inf   0.42   0.42\n",
      "T:   -inf   1.42   -inf   -inf   1.42   0.42   -inf\n",
      "\n"
     ]
    }
   ],
   "source": [
    "weight_matrix = motif.pssm\n",
    "print(weight_matrix)"
   ]
  },
  {
   "cell_type": "code",
   "execution_count": null,
   "id": "2cec86c5-62cc-4663-b4ea-b38cfb812e1c",
   "metadata": {},
   "outputs": [],
   "source": []
  }
 ],
 "metadata": {
  "kernelspec": {
   "display_name": "Python 3 (ipykernel)",
   "language": "python",
   "name": "python3"
  },
  "language_info": {
   "codemirror_mode": {
    "name": "ipython",
    "version": 3
   },
   "file_extension": ".py",
   "mimetype": "text/x-python",
   "name": "python",
   "nbconvert_exporter": "python",
   "pygments_lexer": "ipython3",
   "version": "3.9.10"
  }
 },
 "nbformat": 4,
 "nbformat_minor": 5
}
